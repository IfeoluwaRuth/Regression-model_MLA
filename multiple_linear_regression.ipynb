{
 "cells": [
  {
   "cell_type": "markdown",
   "metadata": {
    "colab_type": "text",
    "id": "CazISR8X_HUG"
   },
   "source": [
    "# Multiple Linear Regression (MLR)"
   ]
  },
  {
   "cell_type": "markdown",
   "metadata": {},
   "source": [
    "As a statistical tool, Multiple linear regression models and analysing the relationship between the dependent variable and two or more independent variables with the aim to find the best-fitting linear equation that describes how the dependent variable changes in response to changes in the independent variables.\n",
    "\n",
    "As a machine learning algorithm, multiple linear regression is the simplest supervised learning models used in predicting a continuous outcome based on input features.\n",
    "\n",
    "In this context, we explore multiple linear regression as a statistical method and as a machine learning algorithm."
   ]
  },
  {
   "cell_type": "markdown",
   "metadata": {
    "colab_type": "text",
    "id": "pOyqYHTk_Q57"
   },
   "source": [
    "## Importing the libraries"
   ]
  },
  {
   "cell_type": "code",
   "execution_count": 1,
   "metadata": {
    "colab": {},
    "colab_type": "code",
    "id": "T_YHJjnD_Tja"
   },
   "outputs": [],
   "source": [
    "import numpy as np\n",
    "import matplotlib.pyplot as plt\n",
    "import pandas as pd\n",
    "import seaborn as sns\n",
    "import statsmodels as sm"
   ]
  },
  {
   "cell_type": "markdown",
   "metadata": {
    "colab_type": "text",
    "id": "vgC61-ah_WIz"
   },
   "source": [
    "## Importing the dataset and Data preprocessing"
   ]
  },
  {
   "cell_type": "code",
   "execution_count": 2,
   "metadata": {
    "colab": {},
    "colab_type": "code",
    "id": "UrxyEKGn_ez7"
   },
   "outputs": [
    {
     "name": "stdout",
     "output_type": "stream",
     "text": [
      "<class 'pandas.core.frame.DataFrame'>\n",
      "RangeIndex: 50 entries, 0 to 49\n",
      "Data columns (total 5 columns):\n",
      " #   Column           Non-Null Count  Dtype  \n",
      "---  ------           --------------  -----  \n",
      " 0   R&D Spend        50 non-null     float64\n",
      " 1   Administration   50 non-null     float64\n",
      " 2   Marketing Spend  50 non-null     float64\n",
      " 3   State            50 non-null     object \n",
      " 4   Profit           50 non-null     float64\n",
      "dtypes: float64(4), object(1)\n",
      "memory usage: 2.1+ KB\n"
     ]
    }
   ],
   "source": [
    "dataset = pd.read_csv('50_Startups.csv')\n",
    "dataset.info()\n"
   ]
  },
  {
   "cell_type": "markdown",
   "metadata": {},
   "source": [
    "<class 'pandas.core.frame.DataFrame'>\n",
    "RangeIndex: 50 entries, 0 to 49\n",
    "Data columns (total 5 columns):\n",
    "    Column           Non-Null Count  Dtype  \n",
    "---  ------           --------------  -----  \n",
    " 0   R&D Spend        50 non-null     float64\n",
    " 1   Administration   50 non-null     float64\n",
    " 2   Marketing Spend  50 non-null     float64\n",
    " 3   State            50 non-null     object \n",
    " 4   Profit           50 non-null     float64\n",
    "dtypes: float64(4), object(1)\n",
    "memory usage: 2.1+ KB"
   ]
  },
  {
   "cell_type": "markdown",
   "metadata": {},
   "source": [
    "The dataset is about the expenditure and profit made by 50 startups. It contains the spending of three departments, R&D, Administrative and marketing; the location of the startups and profit made. \n",
    "\n",
    "The  independent varaibles are: R&D spend, Administration, Marketing spend and State (categorical variable) "
   ]
  },
  {
   "cell_type": "code",
   "execution_count": 3,
   "metadata": {},
   "outputs": [],
   "source": [
    "# Data selection\n",
    "X = dataset.iloc[:, :-1].values ## The independent variables \n",
    "y = dataset.iloc[:, -1].values ### The dependent variables (input feature)"
   ]
  },
  {
   "cell_type": "markdown",
   "metadata": {},
   "source": [
    "# Exploratory Data Analysis"
   ]
  },
  {
   "cell_type": "code",
   "execution_count": 4,
   "metadata": {},
   "outputs": [
    {
     "name": "stdout",
     "output_type": "stream",
     "text": [
      "         State  Count of State\n",
      "0   California              17\n",
      "1      Florida              16\n",
      "2     New York              17\n",
      "3  Grand Total              50\n"
     ]
    }
   ],
   "source": [
    "# Group by 'State' and count the number of startups\n",
    "summary_table = dataset.groupby('State').size().reset_index(name='Count of State')\n",
    "\n",
    "# Add a grand total row\n",
    "grand_total = pd.DataFrame({'State': ['Grand Total'], 'Count of State': [summary_table['Count of State'].sum()]})\n",
    "summary_table = pd.concat([summary_table, grand_total], ignore_index=True)\n",
    "\n",
    "print(summary_table)"
   ]
  },
  {
   "cell_type": "code",
   "execution_count": 5,
   "metadata": {},
   "outputs": [
    {
     "name": "stdout",
     "output_type": "stream",
     "text": [
      "    Row Labels  Average of R&D Spend  Average of Marketing Spend  \\\n",
      "0   California              64657.67                   182540.93   \n",
      "1      Florida              80724.02                   247323.55   \n",
      "2     New York              76195.06                   205346.02   \n",
      "3  Grand Total              73858.92                   211736.83   \n",
      "\n",
      "   Average of Administration  Average of Profit  \n",
      "0                  120746.51          103905.18  \n",
      "1                  121768.90          118774.02  \n",
      "2                  121543.47          113756.45  \n",
      "3                  121352.96          112145.22  \n"
     ]
    }
   ],
   "source": [
    "# Group by 'State' and calculate the mean for each numeric column\n",
    "summary_table = dataset.groupby('State').agg({\n",
    "    'R&D Spend': 'mean',\n",
    "    'Marketing Spend': 'mean',\n",
    "    'Administration': 'mean',\n",
    "    'Profit': 'mean'\n",
    "}).reset_index()\n",
    "\n",
    "# Rename columns for better readability\n",
    "summary_table.columns = ['Row Labels', 'Average of R&D Spend', 'Average of Marketing Spend', 'Average of Administration', 'Average of Profit']\n",
    "\n",
    "# Add a grand total row\n",
    "grand_total = pd.DataFrame({\n",
    "    'Row Labels': ['Grand Total'],\n",
    "    'Average of R&D Spend': [summary_table[['Average of R&D Spend']].mean().values[0]],\n",
    "    'Average of Marketing Spend': [summary_table[['Average of Marketing Spend']].mean().values[0]],\n",
    "    'Average of Administration': [summary_table[['Average of Administration']].mean().values[0]],\n",
    "    'Average of Profit': [summary_table[['Average of Profit']].mean().values[0]]\n",
    "})\n",
    "summary_table = pd.concat([summary_table, grand_total], ignore_index=True)\n",
    "\n",
    "# Format all columns to 2 decimal places\n",
    "summary_table = summary_table.round(2)\n",
    "\n",
    "print(summary_table)\n",
    "# Save the summary table to an Excel file\n",
    "#summary_table.to_excel('startup_summary.xlsx', index=False, sheet_name='Summary')\n"
   ]
  },
  {
   "cell_type": "code",
   "execution_count": 6,
   "metadata": {},
   "outputs": [
    {
     "name": "stdout",
     "output_type": "stream",
     "text": [
      "    Row Labels  Sum of R&D Spend  Sum of Marketing Spend  \\\n",
      "0   California        1099180.46              3103195.80   \n",
      "1      Florida        1291584.26              3957176.82   \n",
      "2     New York        1295316.06              3490882.27   \n",
      "3  Grand Total        3686080.78             10551254.89   \n",
      "\n",
      "   Sum of Administration  Sum of Profit  \n",
      "0             2052690.62     1766387.98  \n",
      "1             1948302.36     1900384.39  \n",
      "2             2066239.00     1933859.59  \n",
      "3             6067231.98     5600631.96  \n"
     ]
    }
   ],
   "source": [
    "\n",
    "# Group by 'State' and calculate the mean for each numeric column\n",
    "summary_table = dataset.groupby('State').agg({\n",
    "    'R&D Spend': 'sum',\n",
    "    'Marketing Spend': 'sum',\n",
    "    'Administration': 'sum',\n",
    "    'Profit': 'sum'\n",
    "}).reset_index()\n",
    "\n",
    "# Rename columns for better readability\n",
    "summary_table.columns = ['Row Labels', 'Sum of R&D Spend', 'Sum of Marketing Spend', 'Sum of Administration',\n",
    "                         'Sum of Profit']\n",
    "\n",
    "# Add a grand total row\n",
    "grand_total = pd.DataFrame({\n",
    "    'Row Labels': ['Grand Total'],\n",
    "    'Sum of R&D Spend': [summary_table[['Sum of R&D Spend']].sum().values[0]],\n",
    "    'Sum of Marketing Spend': [summary_table[['Sum of Marketing Spend']].sum().values[0]],\n",
    "    'Sum of Administration': [summary_table[['Sum of Administration']].sum().values[0]],\n",
    "    'Sum of Profit': [summary_table[['Sum of Profit']].sum().values[0]]\n",
    "})\n",
    "summary_table = pd.concat([summary_table, grand_total], ignore_index=True)\n",
    "\n",
    "# Format all columns to 2 decimal places\n",
    "summary_table = summary_table.round(2)\n",
    "print(summary_table)\n",
    "\n",
    "# Save the summary table to an Excel file\n",
    "#summary_table.to_excel('startup_summary.xlsx', index=False, sheet_name='Summary')\n"
   ]
  },
  {
   "cell_type": "markdown",
   "metadata": {},
   "source": [
    "Among the three states, Florida has the lowest number of startup of 16, while California and New York has the highest with 17 startups. Eventhough California and New York have the same number of startup, New york start ups spends more and make the highest profit among the three while on the other hand, start-ups in California spend the least and made the least profit.\n",
    "\n",
    "Moreso, on average"
   ]
  },
  {
   "cell_type": "markdown",
   "metadata": {},
   "source": [
    "# Visualization"
   ]
  },
  {
   "cell_type": "code",
   "execution_count": 7,
   "metadata": {},
   "outputs": [
    {
     "data": {
      "image/png": "[encoded data removed]",
      "text/plain": [
       "<Figure size 1000x600 with 1 Axes>"
      ]
     },
     "metadata": {},
     "output_type": "display_data"
    }
   ],
   "source": [
    "# Visualizing the information on the summary table \n",
    "\n",
    "# Filter out the grand total row for the plot\n",
    "filtered_table = summary_table[summary_table['Row Labels'] != 'Grand Total']\n",
    "\n",
    "# Extracting the data from the summary_table\n",
    "states = filtered_table['Row Labels'].tolist()\n",
    "r_d_spend = filtered_table['Sum of R&D Spend'].tolist()\n",
    "marketing_spend = filtered_table['Sum of Marketing Spend'].tolist()\n",
    "administration_spend = filtered_table['Sum of Administration'].tolist()\n",
    "profit = filtered_table['Sum of Profit'].tolist()\n",
    "\n",
    "# Position of bars on x-axis for each of the state\n",
    "bar_width = 0.2\n",
    "r1 = np.arange(len(states))\n",
    "r2 = [x + bar_width for x in r1]\n",
    "r3 = [x + bar_width for x in r2]\n",
    "r4 = [x + bar_width for x in r3]\n",
    "\n",
    "# Create the bar chart\n",
    "plt.figure(figsize=(10,6))\n",
    "\n",
    "plt.bar(r1, r_d_spend, color='steelblue', width=bar_width, label='Sum of R&D Spend')\n",
    "plt.bar(r2, marketing_spend, color='coral', width=bar_width, label='Sum of Marketing Spend')\n",
    "plt.bar(r3, administration_spend, color='forestgreen', width=bar_width, label='Sum of Administration')\n",
    "plt.bar(r4, profit, color='deepskyblue', width=bar_width, label='Sum of Profit')\n",
    "\n",
    "# Adding labels and title\n",
    "plt.xlabel('State', fontweight='bold')\n",
    "plt.ylabel('Amount', fontweight='bold')\n",
    "plt.xticks([r + bar_width for r in range(len(states))], states)\n",
    "\n",
    "# Adding a legend\n",
    "plt.legend()\n",
    "\n",
    "# Display the chart\n",
    "plt.title('Sum of R&D Spend, Marketing Spend, Administration, and Profit by State')\n",
    "plt.show()\n"
   ]
  },
  {
   "cell_type": "code",
   "execution_count": 8,
   "metadata": {
    "scrolled": false
   },
   "outputs": [
    {
     "data": {
      "image/png": "[encoded data removed]",
      "text/plain": [
       "<Figure size 800x600 with 1 Axes>"
      ]
     },
     "metadata": {},
     "output_type": "display_data"
    }
   ],
   "source": [
    "## Box Plot for outliners\n",
    "# Creating a boxplot\n",
    "plt.figure(figsize=(8,6))\n",
    "plt.boxplot([dataset['R&D Spend'], dataset['Marketing Spend'], dataset['Administration'], dataset['Profit']],\n",
    "            labels=['R&D Spend', 'Marketing Spend', 'Administration', 'Profit'])\n",
    "\n",
    "# Adding labels and title\n",
    "plt.ylabel('Amount')\n",
    "plt.title('Boxplot of R&D Spend, Marketing Spend, Administration, and Profit')\n",
    "\n",
    "# Show the plot\n",
    "plt.show()"
   ]
  },
  {
   "cell_type": "code",
   "execution_count": 9,
   "metadata": {
    "scrolled": true
   },
   "outputs": [
    {
     "data": {
      "image/png": "[encoded data removed]",
      "text/plain": [
       "<Figure size 300x300 with 2 Axes>"
      ]
     },
     "metadata": {},
     "output_type": "display_data"
    }
   ],
   "source": [
    "# Assuming dataset is a Pandas DataFrame\n",
    "Ndata = dataset.iloc[:, [0,1,2,4]]  # Using iloc to select specific columns\n",
    "\n",
    "# Compute the correlation matrix\n",
    "correlation_matrix = Ndata.corr()\n",
    "\n",
    "# Plot the heatmap\n",
    "plt.figure(figsize=(3,3))\n",
    "mask = np.triu(np.ones_like(correlation_matrix, dtype=bool))  # Mask for upper triangle\n",
    "sns.heatmap(correlation_matrix, annot=True, fmt=\".2f\", cmap='coolwarm', linewidths=0.5, mask=mask)\n",
    "\n",
    "# Display the plot\n",
    "plt.show()\n",
    "\n"
   ]
  },
  {
   "cell_type": "code",
   "execution_count": null,
   "metadata": {},
   "outputs": [],
   "source": []
  },
  {
   "cell_type": "code",
   "execution_count": null,
   "metadata": {},
   "outputs": [],
   "source": []
  },
  {
   "cell_type": "markdown",
   "metadata": {
    "colab_type": "text",
    "id": "VadrvE7s_lS9"
   },
   "source": [
    "## Encoding categorical data"
   ]
  },
  {
   "cell_type": "code",
   "execution_count": 10,
   "metadata": {
    "colab": {},
    "colab_type": "code",
    "id": "wV3fD1mbAvsh"
   },
   "outputs": [],
   "source": [
    "from sklearn.compose import ColumnTransformer\n",
    "from sklearn.preprocessing import OneHotEncoder\n",
    "ct = ColumnTransformer(transformers=[('encoder', OneHotEncoder(), [3])], remainder='passthrough')\n",
    "X = np.array(ct.fit_transform(X))"
   ]
  },
  {
   "cell_type": "code",
   "execution_count": 11,
   "metadata": {
    "colab": {
     "base_uri": "https://localhost:8080/",
     "height": 857
    },
    "colab_type": "code",
    "executionInfo": {
     "elapsed": 616,
     "status": "ok",
     "timestamp": 1586353657759,
     "user": {
      "displayName": "Hadelin de Ponteves",
      "photoUrl": "https://lh3.googleusercontent.com/a-/AOh14GhEuXdT7eQweUmRPW8_laJuPggSK6hfvpl5a6WBaA=s64",
      "userId": "15047218817161520419"
     },
     "user_tz": -240
    },
    "id": "4ym3HdYeCGYG",
    "outputId": "ce09e670-cf06-4a1c-f5b0-89422aae0496"
   },
   "outputs": [
    {
     "name": "stdout",
     "output_type": "stream",
     "text": [
      "[[0.0 0.0 1.0 165349.2 136897.8 471784.1]\n",
      " [1.0 0.0 0.0 162597.7 151377.59 443898.53]\n",
      " [0.0 1.0 0.0 153441.51 101145.55 407934.54]\n",
      " [0.0 0.0 1.0 144372.41 118671.85 383199.62]\n",
      " [0.0 1.0 0.0 142107.34 91391.77 366168.42]\n",
      " [0.0 0.0 1.0 131876.9 99814.71 362861.36]\n",
      " [1.0 0.0 0.0 134615.46 147198.87 127716.82]\n",
      " [0.0 1.0 0.0 130298.13 145530.06 323876.68]\n",
      " [0.0 0.0 1.0 120542.52 148718.95 311613.29]\n",
      " [1.0 0.0 0.0 123334.88 108679.17 304981.62]\n",
      " [0.0 1.0 0.0 101913.08 110594.11 229160.95]\n",
      " [1.0 0.0 0.0 100671.96 91790.61 249744.55]\n",
      " [0.0 1.0 0.0 93863.75 127320.38 249839.44]\n",
      " [1.0 0.0 0.0 91992.39 135495.07 252664.93]\n",
      " [0.0 1.0 0.0 119943.24 156547.42 256512.92]\n",
      " [0.0 0.0 1.0 114523.61 122616.84 261776.23]\n",
      " [1.0 0.0 0.0 78013.11 121597.55 264346.06]\n",
      " [0.0 0.0 1.0 94657.16 145077.58 282574.31]\n",
      " [0.0 1.0 0.0 91749.16 114175.79 294919.57]\n",
      " [0.0 0.0 1.0 86419.7 153514.11 0.0]\n",
      " [1.0 0.0 0.0 76253.86 113867.3 298664.47]\n",
      " [0.0 0.0 1.0 78389.47 153773.43 299737.29]\n",
      " [0.0 1.0 0.0 73994.56 122782.75 303319.26]\n",
      " [0.0 1.0 0.0 67532.53 105751.03 304768.73]\n",
      " [0.0 0.0 1.0 77044.01 99281.34 140574.81]\n",
      " [1.0 0.0 0.0 64664.71 139553.16 137962.62]\n",
      " [0.0 1.0 0.0 75328.87 144135.98 134050.07]\n",
      " [0.0 0.0 1.0 72107.6 127864.55 353183.81]\n",
      " [0.0 1.0 0.0 66051.52 182645.56 118148.2]\n",
      " [0.0 0.0 1.0 65605.48 153032.06 107138.38]\n",
      " [0.0 1.0 0.0 61994.48 115641.28 91131.24]\n",
      " [0.0 0.0 1.0 61136.38 152701.92 88218.23]\n",
      " [1.0 0.0 0.0 63408.86 129219.61 46085.25]\n",
      " [0.0 1.0 0.0 55493.95 103057.49 214634.81]\n",
      " [1.0 0.0 0.0 46426.07 157693.92 210797.67]\n",
      " [0.0 0.0 1.0 46014.02 85047.44 205517.64]\n",
      " [0.0 1.0 0.0 28663.76 127056.21 201126.82]\n",
      " [1.0 0.0 0.0 44069.95 51283.14 197029.42]\n",
      " [0.0 0.0 1.0 20229.59 65947.93 185265.1]\n",
      " [1.0 0.0 0.0 38558.51 82982.09 174999.3]\n",
      " [1.0 0.0 0.0 28754.33 118546.05 172795.67]\n",
      " [0.0 1.0 0.0 27892.92 84710.77 164470.71]\n",
      " [1.0 0.0 0.0 23640.93 96189.63 148001.11]\n",
      " [0.0 0.0 1.0 15505.73 127382.3 35534.17]\n",
      " [1.0 0.0 0.0 22177.74 154806.14 28334.72]\n",
      " [0.0 0.0 1.0 1000.23 124153.04 1903.93]\n",
      " [0.0 1.0 0.0 1315.46 115816.21 297114.46]\n",
      " [1.0 0.0 0.0 0.0 135426.92 0.0]\n",
      " [0.0 0.0 1.0 542.05 51743.15 0.0]\n",
      " [1.0 0.0 0.0 0.0 116983.8 45173.06]]\n"
     ]
    }
   ],
   "source": [
    "print(X)"
   ]
  },
  {
   "cell_type": "markdown",
   "metadata": {
    "colab_type": "text",
    "id": "WemVnqgeA70k"
   },
   "source": [
    "## Splitting the dataset into the Training set and Test set"
   ]
  },
  {
   "cell_type": "code",
   "execution_count": 12,
   "metadata": {
    "colab": {},
    "colab_type": "code",
    "id": "Kb_v_ae-A-20"
   },
   "outputs": [],
   "source": [
    "from sklearn.model_selection import train_test_split\n",
    "X_train, X_test, y_train, y_test = train_test_split(X, y, test_size = 0.2, random_state = 0)"
   ]
  },
  {
   "cell_type": "markdown",
   "metadata": {
    "colab_type": "text",
    "id": "k-McZVsQBINc"
   },
   "source": [
    "## Training the Multiple Linear Regression model on the Training set"
   ]
  },
  {
   "cell_type": "code",
   "execution_count": 13,
   "metadata": {
    "colab": {
     "base_uri": "https://localhost:8080/",
     "height": 34
    },
    "colab_type": "code",
    "executionInfo": {
     "elapsed": 757,
     "status": "ok",
     "timestamp": 1586353664008,
     "user": {
      "displayName": "Hadelin de Ponteves",
      "photoUrl": "https://lh3.googleusercontent.com/a-/AOh14GhEuXdT7eQweUmRPW8_laJuPggSK6hfvpl5a6WBaA=s64",
      "userId": "15047218817161520419"
     },
     "user_tz": -240
    },
    "id": "ywPjx0L1BMiD",
    "outputId": "099836bc-4d85-4b4f-a488-093faf02e8cb"
   },
   "outputs": [
    {
     "data": {
      "text/plain": [
       "LinearRegression()"
      ]
     },
     "execution_count": 13,
     "metadata": {},
     "output_type": "execute_result"
    }
   ],
   "source": [
    "from sklearn.linear_model import LinearRegression\n",
    "regressor = LinearRegression()\n",
    "regressor.fit(X_train, y_train)"
   ]
  },
  {
   "cell_type": "markdown",
   "metadata": {},
   "source": [
    "# Reviewing model parameter"
   ]
  },
  {
   "cell_type": "code",
   "execution_count": 14,
   "metadata": {},
   "outputs": [
    {
     "name": "stdout",
     "output_type": "stream",
     "text": [
      "Intercept: 42467.52924854249\n",
      "Coefficient: [ 8.66383692e+01 -8.72645791e+02  7.86007422e+02  7.73467193e-01\n",
      "  3.28845975e-02  3.66100259e-02]\n"
     ]
    }
   ],
   "source": [
    "print(f\"Intercept: {regressor.intercept_}\")\n",
    "print(f\"Coefficient: {regressor.coef_}\")"
   ]
  },
  {
   "cell_type": "code",
   "execution_count": null,
   "metadata": {},
   "outputs": [],
   "source": []
  },
  {
   "cell_type": "markdown",
   "metadata": {
    "colab_type": "text",
    "id": "xNkXL1YQBiBT"
   },
   "source": [
    "## Predicting the Test set results"
   ]
  },
  {
   "cell_type": "code",
   "execution_count": 15,
   "metadata": {
    "colab": {
     "base_uri": "https://localhost:8080/",
     "height": 185
    },
    "colab_type": "code",
    "executionInfo": {
     "elapsed": 951,
     "status": "ok",
     "timestamp": 1586353666678,
     "user": {
      "displayName": "Hadelin de Ponteves",
      "photoUrl": "https://lh3.googleusercontent.com/a-/AOh14GhEuXdT7eQweUmRPW8_laJuPggSK6hfvpl5a6WBaA=s64",
      "userId": "15047218817161520419"
     },
     "user_tz": -240
    },
    "id": "TQKmwvtdBkyb",
    "outputId": "493436bf-a4ae-4374-ca16-0b0c25d19457"
   },
   "outputs": [
    {
     "name": "stdout",
     "output_type": "stream",
     "text": [
      "[[103015.2  103282.38]\n",
      " [132582.28 144259.4 ]\n",
      " [132447.74 146121.95]\n",
      " [ 71976.1   77798.83]\n",
      " [178537.48 191050.39]\n",
      " [116161.24 105008.31]\n",
      " [ 67851.69  81229.06]\n",
      " [ 98791.73  97483.56]\n",
      " [113969.44 110352.25]\n",
      " [167921.07 166187.94]]\n"
     ]
    }
   ],
   "source": [
    "y_pred = regressor.predict(X_test)\n",
    "np.set_printoptions(precision=2)\n",
    "print(np.concatenate((y_pred.reshape(len(y_pred),1), y_test.reshape(len(y_test),1)),1))"
   ]
  },
  {
   "cell_type": "code",
   "execution_count": 16,
   "metadata": {},
   "outputs": [],
   "source": [
    "# evaluate the model"
   ]
  },
  {
   "cell_type": "code",
   "execution_count": 17,
   "metadata": {},
   "outputs": [
    {
     "name": "stdout",
     "output_type": "stream",
     "text": [
      "Mean Squared Error: 83502864.03259295\n",
      "R-squared: 0.9347068473282303\n"
     ]
    }
   ],
   "source": [
    "from sklearn.metrics import mean_squared_error, r2_score\n",
    "\n",
    "mse = mean_squared_error(y_test, y_pred)\n",
    "r2 = r2_score(y_test, y_pred)\n",
    "\n",
    "print(f\"Mean Squared Error: {mse}\")\n",
    "print(f\"R-squared: {r2}\")"
   ]
  },
  {
   "cell_type": "code",
   "execution_count": null,
   "metadata": {},
   "outputs": [],
   "source": []
  }
 ],
 "metadata": {
  "colab": {
   "authorship_tag": "ABX9TyPhYhte6t7H4wEK4xPpDWT7",
   "name": "Multiple Linear Regression",
   "provenance": [],
   "toc_visible": true
  },
  "kernelspec": {
   "display_name": "Python 3 (ipykernel)",
   "language": "python",
   "name": "python3"
  },
  "language_info": {
   "codemirror_mode": {
    "name": "ipython",
    "version": 3
   },
   "file_extension": ".py",
   "mimetype": "text/x-python",
   "name": "python",
   "nbconvert_exporter": "python",
   "pygments_lexer": "ipython3",
   "version": "3.9.13"
  }
 },
 "nbformat": 4,
 "nbformat_minor": 1
}
